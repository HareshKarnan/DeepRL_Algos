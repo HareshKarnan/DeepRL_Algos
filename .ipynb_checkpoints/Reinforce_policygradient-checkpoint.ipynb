{
 "cells": [
  {
   "cell_type": "code",
   "execution_count": 2,
   "metadata": {},
   "outputs": [],
   "source": [
    "import tensorflow as tf\n",
    "import numpy as np\n",
    "import gym\n",
    "from math import sqrt\n",
    "from gym.spaces import Discrete, Box"
   ]
  },
  {
   "cell_type": "code",
   "execution_count": 3,
   "metadata": {},
   "outputs": [],
   "source": [
    "# define the Multilayer perceptron here\n",
    "def mlp(x, sizes, activation=tf.tanh,output_activation=None):\n",
    "    for size in sizes[:-1]:\n",
    "        x = tf.layers.dense(x,units=size,activation=activation)\n",
    "    return tf.layers.dense(x,units=sizes[-1],activation=output_activation)"
   ]
  },
  {
   "cell_type": "code",
   "execution_count": 4,
   "metadata": {},
   "outputs": [],
   "source": [
    "# implement cost to go\n",
    "def reward_to_go(rews):\n",
    "    n = len(rews)\n",
    "    rtgs = np.zeros_like(rews)\n",
    "    for i in reversed(range(n)):\n",
    "        rtgs[i] = rews[i]+(rtgs[i+1] if i+1<n else 0)\n",
    "    return rtgs\n",
    "    "
   ]
  },
  {
   "cell_type": "code",
   "execution_count": 5,
   "metadata": {},
   "outputs": [],
   "source": [
    "def train(env_name='CartPole-v0',hidden_sizes=[32],lr=0.001,epochs=50,batch_size=5000,render=False):\n",
    "    # make the environment\n",
    "    env = gym.make(env_name)\n",
    "    print('observation space :: ',env.observation_space.shape[0],'action space :: ',env.action_space)\n",
    "    assert isinstance(env.observation_space,Box),\"works only for env with continuous obs spaces\"\n",
    "    assert isinstance(env.action_space,Discrete),\"works only for env with discrete action spaces\"\n",
    "    obs_dim = env.observation_space.shape[0]\n",
    "    n_acts = env.action_space.n\n",
    "    \n",
    "    \n",
    "    # make core of the policy network\n",
    "    obs_ph = tf.placeholder(shape=(None,obs_dim),dtype=tf.float32)\n",
    "    logits = mlp(obs_ph, sizes=hidden_sizes+[n_acts])\n",
    "    \n",
    "    actions = tf.squeeze(tf.multinomial(logits=logits,num_samples=1),axis=1)\n",
    "    \n",
    "    # make loss function whose gradient for the right data is the policy gradient\n",
    "    weights_ph = tf.placeholder(shape=(None,),dtype=tf.float32)\n",
    "    act_ph = tf.placeholder(shape=(None,),dtype=tf.int32)\n",
    "    action_masks = tf.one_hot(act_ph,n_acts)\n",
    "    log_probs = tf.reduce_sum(action_masks*tf.nn.log_softmax(logits),axis=1)\n",
    "    \n",
    "    loss = -tf.reduce_mean(weights_ph*log_probs)\n",
    "    \n",
    "    # do the training here\n",
    "    train_op = tf.train.AdamOptimizer(learning_rate=lr).minimize(loss)\n",
    "    \n",
    "    sess = tf.InteractiveSession()\n",
    "    sess.run(tf.global_variables_initializer())\n",
    "    \n",
    "    # for training policy\n",
    "    def train_one_epoch():\n",
    "        # make some empty lists for logging\n",
    "        batch_obs = [] # for observations\n",
    "        batch_acts = [] # for actions\n",
    "        batch_weights = [] # for R(tau) weighting in policy gradient\n",
    "        batch_rets = [] # for measuring episode returns\n",
    "        batch_lens = [] # for measuring episode lengths\n",
    "        \n",
    "        # reset episode specific variables\n",
    "        obs = env.reset() # first observation comes from starting distribution\n",
    "        done = False # signal from environment that the episode is over\n",
    "        ep_rews = [] # list for rewards accrued throughout the ep\n",
    "        \n",
    "        # render first episode of each epoch\n",
    "        finished_rendering_this_episode = False\n",
    "        while True:\n",
    "            # rendering\n",
    "            if (not finished_rendering_this_episode) and render:\n",
    "                env.render()\n",
    "            # save obs\n",
    "            batch_obs.append(obs.copy())\n",
    "            \n",
    "            #act in the environment\n",
    "            act = sess.run(actions, {obs_ph: obs.reshape(1,-1)})[0]\n",
    "\n",
    "            obs,rew,done,_ = env.step(act)\n",
    "            \n",
    "            # save action,reward\n",
    "            batch_acts.append(act) # saving all the actions taken ? \n",
    "            ep_rews.append(rew)\n",
    "            if done:\n",
    "                # if episode is over, record info about the episode\n",
    "                ep_ret,ep_len = sum(ep_rews),len(ep_rews)\n",
    "                batch_rets.append(ep_ret)\n",
    "                batch_lens.append(ep_len)\n",
    "                \n",
    "                # weight for each logprob(a|s) is R(tau)\n",
    "                batch_weights += list(reward_to_go(ep_rews))\n",
    "                \n",
    "                # reset episode specific variables\n",
    "                obs,done,ep_rews = env.reset(),False,[]\n",
    "                \n",
    "                # wont render again this epoch\n",
    "                finished_rendering_this_episode = True\n",
    "                \n",
    "                #end experience loop if we have enough of it\n",
    "                if len(batch_obs)>batch_size:\n",
    "                    break\n",
    "        \n",
    "        # take a single policy gradient update step\n",
    "        batch_loss,_ba_ = sess.run([loss,train_op],feed_dict={obs_ph:np.array(batch_obs),act_ph:np.array(batch_acts),weights_ph:np.array(batch_weights)})\n",
    "        return batch_loss,batch_rets,batch_lens\n",
    "    \n",
    "    # training loop\n",
    "    for i in range(epochs):\n",
    "        batch_loss,batch_rets,batch_lens = train_one_epoch()\n",
    "        \n",
    "        print('epoch: %3d \\t loss: %.3f \\t return: %.3f \\t ep_len: %.3f'%\n",
    "                (i, batch_loss, np.mean(batch_rets), np.mean(batch_lens)))"
   ]
  },
  {
   "cell_type": "code",
   "execution_count": null,
   "metadata": {},
   "outputs": [
    {
     "name": "stderr",
     "output_type": "stream",
     "text": [
      "/home/haresh/.local/lib/python3.5/site-packages/gym/envs/registration.py:14: PkgResourcesDeprecationWarning: Parameters to load are deprecated.  Call .resolve and .require separately.\n",
      "  result = entry_point.load(False)\n"
     ]
    },
    {
     "name": "stdout",
     "output_type": "stream",
     "text": [
      "observation space ::  4 action space ::  Discrete(2)\n"
     ]
    }
   ],
   "source": [
    "train(env_name='CartPole-v0',hidden_sizes=[32,64,1024,1024,64,32],lr=0.001,epochs=1000,render=True,batch_size=5000)"
   ]
  },
  {
   "cell_type": "code",
   "execution_count": null,
   "metadata": {},
   "outputs": [],
   "source": []
  }
 ],
 "metadata": {
  "kernelspec": {
   "display_name": "Python 3",
   "language": "python",
   "name": "python3"
  },
  "language_info": {
   "codemirror_mode": {
    "name": "ipython",
    "version": 3
   },
   "file_extension": ".py",
   "mimetype": "text/x-python",
   "name": "python",
   "nbconvert_exporter": "python",
   "pygments_lexer": "ipython3",
   "version": "3.5.2"
  }
 },
 "nbformat": 4,
 "nbformat_minor": 2
}
